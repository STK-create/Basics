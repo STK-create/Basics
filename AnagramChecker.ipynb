{
  "nbformat": 4,
  "nbformat_minor": 0,
  "metadata": {
    "colab": {
      "provenance": [],
      "authorship_tag": "ABX9TyPyQQdAgbEV0A+DslSx0nr5",
      "include_colab_link": true
    },
    "kernelspec": {
      "name": "python3",
      "display_name": "Python 3"
    },
    "language_info": {
      "name": "python"
    }
  },
  "cells": [
    {
      "cell_type": "markdown",
      "metadata": {
        "id": "view-in-github",
        "colab_type": "text"
      },
      "source": [
        "<a href=\"https://colab.research.google.com/github/STK-create/Basics/blob/main/AnagramChecker.ipynb\" target=\"_parent\"><img src=\"https://colab.research.google.com/assets/colab-badge.svg\" alt=\"Open In Colab\"/></a>"
      ]
    },
    {
      "cell_type": "code",
      "execution_count": 1,
      "metadata": {
        "colab": {
          "base_uri": "https://localhost:8080/"
        },
        "id": "2aTo1lUv4e6L",
        "outputId": "21316b3a-3362-44c7-9205-c7b5229d58b7"
      },
      "outputs": [
        {
          "output_type": "stream",
          "name": "stdout",
          "text": [
            "Please enter the first string: Now\n",
            "Please enter the second string: Won\n",
            "Now and Won are anagrams.\n"
          ]
        }
      ],
      "source": [
        "from string import *\n",
        "def anagram_checker(string1,string2):\n",
        "\n",
        "    #initialization\n",
        "    string3=string1.lower()\n",
        "    string4=string2.lower()\n",
        "    string3list=[]\n",
        "    string4list=[]\n",
        "\n",
        "\n",
        "    #Add elements of string3 in the string3list\n",
        "    for i in range(len(string3)):\n",
        "        if((string3[i] in punctuation) or (string3[i] in whitespace)):\n",
        "            continue\n",
        "        else:\n",
        "           string3list.append(string3[i])\n",
        "\n",
        "\n",
        "    #Add elements of string4 in the string4list\n",
        "    for i in range(len(string4)):\n",
        "        if((string4[i] in punctuation) or (string4[i] in whitespace)):\n",
        "            continue\n",
        "        else:\n",
        "            string4list.append(string4[i])\n",
        "\n",
        "    #display\n",
        "    string3list.sort()\n",
        "    string4list.sort()\n",
        "    if(string3list==string4list):\n",
        "        print(f'{string1} and {string2} are anagrams.')\n",
        "    else:\n",
        "        print(f'{string1} and {string2} are not anagrams.')\n",
        "\n",
        "string1=input('Please enter the first string: ')\n",
        "string2=input('Please enter the second string: ')\n",
        "anagram_checker(string1,string2)"
      ]
    }
  ]
}