{
  "nbformat": 4,
  "nbformat_minor": 0,
  "metadata": {
    "colab": {
      "provenance": [],
      "authorship_tag": "ABX9TyNVFielRiqse3WfxMO7xC0C",
      "include_colab_link": true
    },
    "kernelspec": {
      "name": "python3",
      "display_name": "Python 3"
    },
    "language_info": {
      "name": "python"
    }
  },
  "cells": [
    {
      "cell_type": "markdown",
      "metadata": {
        "id": "view-in-github",
        "colab_type": "text"
      },
      "source": [
        "<a href=\"https://colab.research.google.com/github/STK-create/Basics/blob/main/Max_Min_Finder.ipynb\" target=\"_parent\"><img src=\"https://colab.research.google.com/assets/colab-badge.svg\" alt=\"Open In Colab\"/></a>"
      ]
    },
    {
      "cell_type": "code",
      "execution_count": 3,
      "metadata": {
        "colab": {
          "base_uri": "https://localhost:8080/"
        },
        "id": "2aTo1lUv4e6L",
        "outputId": "a4853ef9-0f96-4a55-f713-213e9a5307b3"
      },
      "outputs": [
        {
          "output_type": "stream",
          "name": "stdout",
          "text": [
            "(6, -1)\n"
          ]
        }
      ],
      "source": [
        "def max_min_finder(list1):\n",
        "  max=list1[0]\n",
        "  for i in range(1,len(list1)):\n",
        "    if(max<list1[i]):\n",
        "      max=list1[i]\n",
        "  min=list1[0]\n",
        "  for i in range(1,len(list1)):\n",
        "    if(min>list1[i]):\n",
        "      min=list1[i]\n",
        "  return max,min\n",
        "list1=[3,4,5,6,3,1,2,4,-1]\n",
        "print(f'{max_min_finder(list1)}')"
      ]
    }
  ]
}