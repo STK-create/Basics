{
  "nbformat": 4,
  "nbformat_minor": 0,
  "metadata": {
    "colab": {
      "provenance": [],
      "authorship_tag": "ABX9TyM8XPZ+XQClTE7xNlB16UZ/",
      "include_colab_link": true
    },
    "kernelspec": {
      "name": "python3",
      "display_name": "Python 3"
    },
    "language_info": {
      "name": "python"
    }
  },
  "cells": [
    {
      "cell_type": "markdown",
      "metadata": {
        "id": "view-in-github",
        "colab_type": "text"
      },
      "source": [
        "<a href=\"https://colab.research.google.com/github/STK-create/Basics/blob/main/AverageCalculator.ipynb\" target=\"_parent\"><img src=\"https://colab.research.google.com/assets/colab-badge.svg\" alt=\"Open In Colab\"/></a>"
      ]
    },
    {
      "cell_type": "code",
      "execution_count": 1,
      "metadata": {
        "colab": {
          "base_uri": "https://localhost:8080/"
        },
        "id": "hgMSPxlr3zhf",
        "outputId": "a4b6d668-96f3-4e22-a190-1624038ecd4b"
      },
      "outputs": [
        {
          "output_type": "stream",
          "name": "stdout",
          "text": [
            "How many numbers to use to calculate the average: 5\n",
            "Please enter a number: 8\n",
            "Please enter a number: 6\n",
            "Please enter a number: 5\n",
            "Please enter a number: 8\n",
            "Please enter a number: 7\n",
            "The average of the 5 numbers is: 6.8\n"
          ]
        }
      ],
      "source": [
        "#Used a function to implement average calculator\n",
        "def average_calculator(counter):\n",
        "    #intitialize sum to 0\n",
        "    sum=0\n",
        "    for i in range(counter):\n",
        "        number=float(input('Please enter a number: '))\n",
        "        #Add the numbers to the sum\n",
        "        sum+=number\n",
        "    #Return the average\n",
        "    return sum/counter\n",
        "#input how many numbers to include\n",
        "counter=int(input('How many numbers to use \\\n",
        "to calculate the average: '))\n",
        "#Display the Average\n",
        "print(f'The average of the {counter} \\\n",
        "numbers is: {average_calculator(counter)}')"
      ]
    }
  ]
}